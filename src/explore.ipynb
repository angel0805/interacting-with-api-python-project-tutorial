{
    "cells": [
        {
            "cell_type": "markdown",
            "metadata": {},
            "source": [
                "# Explore here"
            ]
        },
        {
            "cell_type": "code",
            "execution_count": 6,
            "metadata": {},
            "outputs": [
                {
                    "data": {
                        "text/html": [
                            "<div>\n",
                            "<style scoped>\n",
                            "    .dataframe tbody tr th:only-of-type {\n",
                            "        vertical-align: middle;\n",
                            "    }\n",
                            "\n",
                            "    .dataframe tbody tr th {\n",
                            "        vertical-align: top;\n",
                            "    }\n",
                            "\n",
                            "    .dataframe thead th {\n",
                            "        text-align: right;\n",
                            "    }\n",
                            "</style>\n",
                            "<table border=\"1\" class=\"dataframe\">\n",
                            "  <thead>\n",
                            "    <tr style=\"text-align: right;\">\n",
                            "      <th></th>\n",
                            "      <th>Band_name</th>\n",
                            "      <th>Song_name</th>\n",
                            "      <th>Popularity</th>\n",
                            "      <th>Duration_min</th>\n",
                            "    </tr>\n",
                            "  </thead>\n",
                            "  <tbody>\n",
                            "    <tr>\n",
                            "      <th>0</th>\n",
                            "      <td>Queens of the Stone Age</td>\n",
                            "      <td>No One Knows</td>\n",
                            "      <td>71</td>\n",
                            "      <td>4.65</td>\n",
                            "    </tr>\n",
                            "    <tr>\n",
                            "      <th>1</th>\n",
                            "      <td>Queens of the Stone Age</td>\n",
                            "      <td>Song For The Dead</td>\n",
                            "      <td>59</td>\n",
                            "      <td>5.87</td>\n",
                            "    </tr>\n",
                            "    <tr>\n",
                            "      <th>2</th>\n",
                            "      <td>Queens of the Stone Age</td>\n",
                            "      <td>Make It Wit Chu</td>\n",
                            "      <td>65</td>\n",
                            "      <td>4.84</td>\n",
                            "    </tr>\n",
                            "    <tr>\n",
                            "      <th>3</th>\n",
                            "      <td>Queens of the Stone Age</td>\n",
                            "      <td>Go With The Flow</td>\n",
                            "      <td>68</td>\n",
                            "      <td>3.12</td>\n",
                            "    </tr>\n",
                            "    <tr>\n",
                            "      <th>4</th>\n",
                            "      <td>Queens of the Stone Age</td>\n",
                            "      <td>Little Sister</td>\n",
                            "      <td>61</td>\n",
                            "      <td>2.90</td>\n",
                            "    </tr>\n",
                            "  </tbody>\n",
                            "</table>\n",
                            "</div>"
                        ],
                        "text/plain": [
                            "                 Band_name          Song_name  Popularity  Duration_min\n",
                            "0  Queens of the Stone Age       No One Knows          71          4.65\n",
                            "1  Queens of the Stone Age  Song For The Dead          59          5.87\n",
                            "2  Queens of the Stone Age    Make It Wit Chu          65          4.84\n",
                            "3  Queens of the Stone Age   Go With The Flow          68          3.12\n",
                            "4  Queens of the Stone Age      Little Sister          61          2.90"
                        ]
                    },
                    "execution_count": 6,
                    "metadata": {},
                    "output_type": "execute_result"
                }
            ],
            "source": [
                "import os\n",
                "import pickle\n",
                "import pandas as pd\n",
                "import seaborn as sns\n",
                "from dotenv import load_dotenv\n",
                "\n",
                "# seaborn set\n",
                "sns.set_theme()\n",
                "\n",
                "# load the .env file variables\n",
                "load_dotenv()\n",
                "\n",
                "with open('banda_diccionario.pkl', 'rb') as f:\n",
                "  mi_diccionario = pickle.load(f)\n",
                "  \n",
                "total_data = pd.DataFrame(mi_diccionario)\n",
                "total_data.head()\n"
            ]
        },
        {
            "cell_type": "markdown",
            "metadata": {},
            "source": [
                "Ordenamos las canciones por popularidad y mostramos el top 3"
            ]
        },
        {
            "cell_type": "code",
            "execution_count": 5,
            "metadata": {},
            "outputs": [
                {
                    "data": {
                        "text/html": [
                            "<div>\n",
                            "<style scoped>\n",
                            "    .dataframe tbody tr th:only-of-type {\n",
                            "        vertical-align: middle;\n",
                            "    }\n",
                            "\n",
                            "    .dataframe tbody tr th {\n",
                            "        vertical-align: top;\n",
                            "    }\n",
                            "\n",
                            "    .dataframe thead th {\n",
                            "        text-align: right;\n",
                            "    }\n",
                            "</style>\n",
                            "<table border=\"1\" class=\"dataframe\">\n",
                            "  <thead>\n",
                            "    <tr style=\"text-align: right;\">\n",
                            "      <th></th>\n",
                            "      <th>Band_name</th>\n",
                            "      <th>Song_name</th>\n",
                            "      <th>Popularity</th>\n",
                            "      <th>Duration_min</th>\n",
                            "    </tr>\n",
                            "  </thead>\n",
                            "  <tbody>\n",
                            "    <tr>\n",
                            "      <th>9</th>\n",
                            "      <td>Queens of the Stone Age</td>\n",
                            "      <td>The Sky Is Fallin'</td>\n",
                            "      <td>47</td>\n",
                            "      <td>6.26</td>\n",
                            "    </tr>\n",
                            "    <tr>\n",
                            "      <th>8</th>\n",
                            "      <td>Queens of the Stone Age</td>\n",
                            "      <td>Paper Machete</td>\n",
                            "      <td>54</td>\n",
                            "      <td>3.38</td>\n",
                            "    </tr>\n",
                            "    <tr>\n",
                            "      <th>6</th>\n",
                            "      <td>Queens of the Stone Age</td>\n",
                            "      <td>The Lost Art Of Keeping A Secret</td>\n",
                            "      <td>56</td>\n",
                            "      <td>3.60</td>\n",
                            "    </tr>\n",
                            "  </tbody>\n",
                            "</table>\n",
                            "</div>"
                        ],
                        "text/plain": [
                            "                 Band_name                         Song_name  Popularity  \\\n",
                            "9  Queens of the Stone Age                The Sky Is Fallin'          47   \n",
                            "8  Queens of the Stone Age                     Paper Machete          54   \n",
                            "6  Queens of the Stone Age  The Lost Art Of Keeping A Secret          56   \n",
                            "\n",
                            "   Duration_min  \n",
                            "9          6.26  \n",
                            "8          3.38  \n",
                            "6          3.60  "
                        ]
                    },
                    "execution_count": 5,
                    "metadata": {},
                    "output_type": "execute_result"
                }
            ],
            "source": [
                "total_data.sort_values(['Popularity']).head(3)"
            ]
        },
        {
            "cell_type": "code",
            "execution_count": 7,
            "metadata": {},
            "outputs": [
                {
                    "data": {
                        "image/png": "[encoded data removed]",
                        "text/plain": [
                            "<Figure size 640x480 with 1 Axes>"
                        ]
                    },
                    "metadata": {},
                    "output_type": "display_data"
                }
            ],
            "source": [
                "scatter = sns.scatterplot(data = total_data, x = 'Popularity', y = 'Duration_min')\n",
                "fig = scatter.get_figure()"
            ]
        },
        {
            "cell_type": "markdown",
            "metadata": {},
            "source": [
                "No hay relacion, la duracion de la cancion no afecta la popularidad de tal."
            ]
        }
    ],
    "metadata": {
        "kernelspec": {
            "display_name": "Python 3.8.13 64-bit ('3.8.13')",
            "language": "python",
            "name": "python3"
        },
        "language_info": {
            "codemirror_mode": {
                "name": "ipython",
                "version": 3
            },
            "file_extension": ".py",
            "mimetype": "text/x-python",
            "name": "python",
            "nbconvert_exporter": "python",
            "pygments_lexer": "ipython3",
            "version": "3.12.5"
        },
        "orig_nbformat": 4,
        "vscode": {
            "interpreter": {
                "hash": "110cc1dee26208153f2972f08a2ad52b6a56238dc66d48e87fb757ef2996db56"
            }
        }
    },
    "nbformat": 4,
    "nbformat_minor": 2
}
